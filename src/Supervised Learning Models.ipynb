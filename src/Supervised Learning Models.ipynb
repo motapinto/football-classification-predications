{
 "cells": [
  {
   "cell_type": "markdown",
   "metadata": {
    "scrolled": true
   },
   "source": [
    "# Supervised learning models to predicting football matches outcomes\n",
    "\n",
    "### Notebook by [Martim Pinto da Silva](https://github.com/motapinto), [Luis Ramos](https://github.com/luispramos), [Francisco Gonçalves](https://github.com/kiko-g)\n",
    "#### Supported by [Luis Paulo Reis](https://web.fe.up.pt/~lpreis/)\n",
    "#### [Faculdade de Engenharia da Universidade do Porto](https://sigarra.up.pt/feup/en/web_page.inicial)\n",
    "\n",
    "#### It is recommended to [view this notebook in nbviewer](https://nbviewer.ipython.org/github.com/motapinto/football-classification-predications/blob/master/src/Supervised%20Learning%20Models.ipynb) for the best overall experience\n",
    "#### You can also execute the code on this notebook using [Jupyter Notebook](https://jupyter.org/) or [Binder](https://mybinder.org/)(no local installation required)\n"
   ]
  },
  {
   "cell_type": "markdown",
   "metadata": {},
   "source": [
    "## Table of contents\n",
    "1. * [Introduction](#Introduction)\n",
    "2. * [Required libraries and models](#Required-libraries-and-models)\n",
    "    - [Libraries](#Libraries)\n",
    "    - [Models](#Models)\n",
    "3. * [The problem domain](#The-problem-domain)\n",
    "4. * [Step 1: Data analysis](#Step-1:-Data-analysis)\n",
    "    - [Extracting data from the database](#Extracting-data-from-the-database)\n",
    "    - [Matches](#Matches)\n",
    "    - [Team Stats - Team Attributes](#Team-Stats---Team-Attributes)\n",
    "    - [Team Stats - Shots](#Team-Stats---Shots)\n",
    "    - [Team Stats - Possession](#Team-Stats---Possession)\n",
    "    - [Team Stats - Crosses](#Team-Stats---Crosses)\n",
    "    - [FIFA data](#FIFA-data)\n",
    "    - [Joining all features](#Joining-all-features)\n",
    "5. * [Step 2: Classification & Results Interpretation](#Step-2:-Classification-&-Results-Interpretation)\n",
    "    - [Splitting the data into train and test](#Splitting-the-data-into-train-and-test)\n",
    "    - [Training and Evaluating Models](#Training-and-Evaluating-Models)\n",
    "    - [The basis](#The-basis)\n",
    "    - [KNN](#KNN)\n",
    "    - [Decision Tree](#Decision-Tree)\n",
    "    - [SVC](#SVC)\n",
    "    - [Naive Bayes](#Naive-Bayes)\n",
    "    - [Gradient Boosting](#Gradient-Boosting)\n",
    "    - [Deep Neural Network](#Deep-Neural-Network)\n",
    "6. * [Conclusion](#Conclusion)\n",
    "    - [What did we learn](#What-did-we-learn)\n",
    "    - [Choosing best model](#Choosing-best-model)\n",
    "7. * [Resources](#Resources)"
   ]
  },
  {
   "cell_type": "markdown",
   "metadata": {},
   "source": [
    "## Introduction\n",
    "[go back to the top](#Table-of-contents)\n",
    "\n",
    "In the most recent years there's been a major influx of data. In response to this situation, Machine Learning alongside the field of Data Science have come to the forefront, representing the desire of humans to better understand and make sense of the current abundance of data in the world we live in.\n",
    "\n",
    "In this notebook, we look forward to use Supervised Learning models to harness a dataset of around 25k football matches in order to be able to predict the outcome of other matchups according to a set of classes (win, draw, loss, etc.)"
   ]
  },
  {
   "cell_type": "markdown",
   "metadata": {},
   "source": [
    "## Required libraries and models\n",
    "[go back to the top](#Table-of-contents)\n",
    "\n",
    "### Libraries\n",
    "If you don't have Python on your computer, you can use the [Anaconda Python distribution](http://continuum.io/downloads) to install most of the Python packages you need. Anaconda provides a simple double-click installer for your convenience.\n",
    "\n",
    "This notebook uses several Python packages that come standard with the Anaconda Python distribution. The primary libraries that we'll be using are:\n",
    "\n",
    "**NumPy**: Provides a fast numerical array structure and helper functions.\n",
    "\n",
    "**pandas**: Provides a DataFrame structure to store data in memory and work with it easily and efficiently.\n",
    "\n",
    "**scikit-learn**: The essential Machine Learning package for a variaty of supervised learning models, in Python.\n",
    "\n",
    "**tensorflow**: The essential Machine Learning package for deep learning, in Python.\n",
    "\n",
    "**matplotlib**: Basic plotting library in Python; most other Python plotting libraries are built on top of it.\n",
    "\n",
    "### Models\n",
    "Regarding the supervised learning models, we are using: \n",
    "* [Gaussian Naive Bayes](https://scikit-learn.org/stable/modules/generated/sklearn.naive_bayes.GaussianNB.html)\n",
    "* [Nearest Neighbors](https://scikit-learn.org/stable/modules/neighbors.html)\n",
    "* [DecisionTree](https://scikit-learn.org/stable/modules/generated/sklearn.tree.DecisionTreeClassifier.html)\n",
    "* [Support Vector Machines](https://scikit-learn.org/stable/modules/svm.html)\n",
    "* [XGBoost](https://xgboost.readthedocs.io/en/latest/) \n",
    "* [Deep Learning Neural Networks](https://keras.io/guides/sequential_model/)\n"
   ]
  },
  {
   "cell_type": "code",
   "execution_count": 60,
   "metadata": {},
   "outputs": [],
   "source": [
    "# Primary libraries\n",
    "from time import time\n",
    "import numpy as np\n",
    "import pandas as pd\n",
    "import sqlite3\n",
    "import matplotlib.pyplot as plt\n",
    "\n",
    "# Models\n",
    "from sklearn.naive_bayes import GaussianNB\n",
    "from sklearn.neighbors import KNeighborsClassifier\n",
    "from sklearn.tree import DecisionTreeClassifier\n",
    "from sklearn.svm import SVC\n",
    "from xgboost import XGBClassifier\n",
    "# Neural Networks\n",
    "from tensorflow import keras\n",
    "from keras.models import Sequential\n",
    "from keras.layers import Dense\n",
    "from keras.layers import Flatten\n",
    "from keras.layers import Input\n",
    "from keras.models import Model\n",
    "from keras.utils import np_utils\n",
    "# Measures\n",
    "from sklearn.preprocessing import Normalizer\n",
    "from sklearn.preprocessing import StandardScaler\n",
    "from sklearn.model_selection import train_test_split\n",
    "from sklearn.metrics import classification_report, accuracy_score\n",
    "from sklearn import metrics\n",
    "from sklearn.model_selection import KFold\n",
    "from sklearn.preprocessing import LabelEncoder  "
   ]
  },
  {
   "cell_type": "markdown",
   "metadata": {},
   "source": [
    "## The problem domain\n",
    "[go back to the top](#Table-of-contents)\n",
    "\n",
    "The first step to any data analysis project is to define the question or problem we're looking to solve, and to define a measure (or set of measures) for our success at solving that task. The data analysis checklist has us answer a handful of questions to accomplish that, so let's work through those questions.\n",
    "\n",
    "#### Did you specify the type of data analytic question (e.g. exploration, association causality) before touching the data?\n",
    "\n",
    "> We are trying to design a predictive model capable of accurately predicting if the home team will either win, lose or draw, i.e., predict the outcome of football matche based on a set of measurements, including player ratings, team ratings, team average stats(possession, corners, shoots), team style(pressing, possession, defending, counter attacking, speed of play, ..) and team match history(previous games)\n",
    "\n",
    "#### Did you define the metric for success before beginning?\n",
    "\n",
    "> Let's do that now. Since we're performing classification, we can use [accuracy](https://en.wikipedia.org/wiki/Accuracy_and_precision) — the fraction of correctly classified matches — to quantify how well our model is performing. Knowing that most bookkeepers predict matches with an accuracy of 50%, we will try to match or beat that value. We will also use a confusion matrix, and analyse the precision, recall and f1-score. \n",
    "    \n",
    "#### Did you consider whether the question could be answered with the available data?\",\n",
    "\n",
    "> The data provided has information about more than 25k matches across multiple leagues. Even though the usability isn't great, after some processing and cleansing of the data, we will be able to predict matches with great confidence. To answer the question, yes, we have more than enough data to analyse football matches.."
   ]
  },
  {
   "cell_type": "markdown",
   "metadata": {},
   "source": [
    "## Step 1: Data analysis\n",
    "[go back to the top](#Table-of-contents)\n",
    "\n",
    "The first step we have, is to look at the data, and after extracting, analyse it. We know that most datasets can contain minor issues, so we have to search for  possible null or not defined values, and if so how do we proceed? Do we remove an entire row of a Dataframe? Maybe we just need to purify and substitute it's value? This analysis is done below.\n",
    "\n",
    "Before analysing the data, we need to first extract it. For that we use multiple methods to have a cleaner code"
   ]
  },
  {
   "cell_type": "markdown",
   "metadata": {},
   "source": [
    "### Extracting data from the database"
   ]
  },
  {
   "cell_type": "code",
   "execution_count": 44,
   "metadata": {},
   "outputs": [
    {
     "ename": "KeyboardInterrupt",
     "evalue": "",
     "output_type": "error",
     "traceback": [
      "\u001b[1;31m---------------------------------------------------------------------------\u001b[0m",
      "\u001b[1;31mKeyboardInterrupt\u001b[0m                         Traceback (most recent call last)",
      "\u001b[1;32m<ipython-input-44-54e50700a283>\u001b[0m in \u001b[0;36m<module>\u001b[1;34m\u001b[0m\n\u001b[0;32m      3\u001b[0m     \u001b[0mteam_attributes\u001b[0m \u001b[1;33m=\u001b[0m \u001b[0mpd\u001b[0m\u001b[1;33m.\u001b[0m\u001b[0mread_sql_query\u001b[0m\u001b[1;33m(\u001b[0m\u001b[1;34m\"SELECT distinct * from Team_Attributes\"\u001b[0m\u001b[1;33m,\u001b[0m\u001b[0mcon\u001b[0m\u001b[1;33m)\u001b[0m\u001b[1;33m\u001b[0m\u001b[1;33m\u001b[0m\u001b[0m\n\u001b[0;32m      4\u001b[0m     \u001b[0mplayer\u001b[0m \u001b[1;33m=\u001b[0m \u001b[0mpd\u001b[0m\u001b[1;33m.\u001b[0m\u001b[0mread_sql_query\u001b[0m\u001b[1;33m(\u001b[0m\u001b[1;34m\"SELECT * from Player\"\u001b[0m\u001b[1;33m,\u001b[0m\u001b[0mcon\u001b[0m\u001b[1;33m)\u001b[0m\u001b[1;33m\u001b[0m\u001b[1;33m\u001b[0m\u001b[0m\n\u001b[1;32m----> 5\u001b[1;33m     \u001b[0mplayer_attributes\u001b[0m \u001b[1;33m=\u001b[0m \u001b[0mpd\u001b[0m\u001b[1;33m.\u001b[0m\u001b[0mread_sql_query\u001b[0m\u001b[1;33m(\u001b[0m\u001b[1;34m\"SELECT * from Player_Attributes\"\u001b[0m\u001b[1;33m,\u001b[0m\u001b[0mcon\u001b[0m\u001b[1;33m)\u001b[0m\u001b[1;33m\u001b[0m\u001b[1;33m\u001b[0m\u001b[0m\n\u001b[0m",
      "\u001b[1;32mc:\\python\\python38\\lib\\site-packages\\pandas\\io\\sql.py\u001b[0m in \u001b[0;36mread_sql_query\u001b[1;34m(sql, con, index_col, coerce_float, params, parse_dates, chunksize)\u001b[0m\n\u001b[0;32m    324\u001b[0m     \"\"\"\n\u001b[0;32m    325\u001b[0m     \u001b[0mpandas_sql\u001b[0m \u001b[1;33m=\u001b[0m \u001b[0mpandasSQL_builder\u001b[0m\u001b[1;33m(\u001b[0m\u001b[0mcon\u001b[0m\u001b[1;33m)\u001b[0m\u001b[1;33m\u001b[0m\u001b[1;33m\u001b[0m\u001b[0m\n\u001b[1;32m--> 326\u001b[1;33m     return pandas_sql.read_query(\n\u001b[0m\u001b[0;32m    327\u001b[0m         \u001b[0msql\u001b[0m\u001b[1;33m,\u001b[0m\u001b[1;33m\u001b[0m\u001b[1;33m\u001b[0m\u001b[0m\n\u001b[0;32m    328\u001b[0m         \u001b[0mindex_col\u001b[0m\u001b[1;33m=\u001b[0m\u001b[0mindex_col\u001b[0m\u001b[1;33m,\u001b[0m\u001b[1;33m\u001b[0m\u001b[1;33m\u001b[0m\u001b[0m\n",
      "\u001b[1;32mc:\\python\\python38\\lib\\site-packages\\pandas\\io\\sql.py\u001b[0m in \u001b[0;36mread_query\u001b[1;34m(self, sql, index_col, coerce_float, params, parse_dates, chunksize)\u001b[0m\n\u001b[0;32m   1644\u001b[0m             )\n\u001b[0;32m   1645\u001b[0m         \u001b[1;32melse\u001b[0m\u001b[1;33m:\u001b[0m\u001b[1;33m\u001b[0m\u001b[1;33m\u001b[0m\u001b[0m\n\u001b[1;32m-> 1646\u001b[1;33m             \u001b[0mdata\u001b[0m \u001b[1;33m=\u001b[0m \u001b[0mself\u001b[0m\u001b[1;33m.\u001b[0m\u001b[0m_fetchall_as_list\u001b[0m\u001b[1;33m(\u001b[0m\u001b[0mcursor\u001b[0m\u001b[1;33m)\u001b[0m\u001b[1;33m\u001b[0m\u001b[1;33m\u001b[0m\u001b[0m\n\u001b[0m\u001b[0;32m   1647\u001b[0m             \u001b[0mcursor\u001b[0m\u001b[1;33m.\u001b[0m\u001b[0mclose\u001b[0m\u001b[1;33m(\u001b[0m\u001b[1;33m)\u001b[0m\u001b[1;33m\u001b[0m\u001b[1;33m\u001b[0m\u001b[0m\n\u001b[0;32m   1648\u001b[0m \u001b[1;33m\u001b[0m\u001b[0m\n",
      "\u001b[1;32mc:\\python\\python38\\lib\\site-packages\\pandas\\io\\sql.py\u001b[0m in \u001b[0;36m_fetchall_as_list\u001b[1;34m(self, cur)\u001b[0m\n\u001b[0;32m   1657\u001b[0m \u001b[1;33m\u001b[0m\u001b[0m\n\u001b[0;32m   1658\u001b[0m     \u001b[1;32mdef\u001b[0m \u001b[0m_fetchall_as_list\u001b[0m\u001b[1;33m(\u001b[0m\u001b[0mself\u001b[0m\u001b[1;33m,\u001b[0m \u001b[0mcur\u001b[0m\u001b[1;33m)\u001b[0m\u001b[1;33m:\u001b[0m\u001b[1;33m\u001b[0m\u001b[1;33m\u001b[0m\u001b[0m\n\u001b[1;32m-> 1659\u001b[1;33m         \u001b[0mresult\u001b[0m \u001b[1;33m=\u001b[0m \u001b[0mcur\u001b[0m\u001b[1;33m.\u001b[0m\u001b[0mfetchall\u001b[0m\u001b[1;33m(\u001b[0m\u001b[1;33m)\u001b[0m\u001b[1;33m\u001b[0m\u001b[1;33m\u001b[0m\u001b[0m\n\u001b[0m\u001b[0;32m   1660\u001b[0m         \u001b[1;32mif\u001b[0m \u001b[1;32mnot\u001b[0m \u001b[0misinstance\u001b[0m\u001b[1;33m(\u001b[0m\u001b[0mresult\u001b[0m\u001b[1;33m,\u001b[0m \u001b[0mlist\u001b[0m\u001b[1;33m)\u001b[0m\u001b[1;33m:\u001b[0m\u001b[1;33m\u001b[0m\u001b[1;33m\u001b[0m\u001b[0m\n\u001b[0;32m   1661\u001b[0m             \u001b[0mresult\u001b[0m \u001b[1;33m=\u001b[0m \u001b[0mlist\u001b[0m\u001b[1;33m(\u001b[0m\u001b[0mresult\u001b[0m\u001b[1;33m)\u001b[0m\u001b[1;33m\u001b[0m\u001b[1;33m\u001b[0m\u001b[0m\n",
      "\u001b[1;31mKeyboardInterrupt\u001b[0m: "
     ]
    }
   ],
   "source": [
    "with sqlite3.connect(\"../dataset/database.sqlite\") as con:\n",
    "    matches = pd.read_sql_query(\"SELECT * from Match\", con)\n",
    "    team_attributes = pd.read_sql_query(\"SELECT distinct * from Team_Attributes\",con)\n",
    "    player = pd.read_sql_query(\"SELECT * from Player\",con)\n",
    "    player_attributes = pd.read_sql_query(\"SELECT * from Player_Attributes\",con)"
   ]
  },
  {
   "cell_type": "markdown",
   "metadata": {},
   "source": [
    "### Matches\n",
    "We start by cleaning the match data and defining some methods for the data extraction"
   ]
  },
  {
   "cell_type": "code",
   "execution_count": null,
   "metadata": {},
   "outputs": [],
   "source": [
    "''' Derives a label for a given match. '''\n",
    "def get_match_outcome(match):\n",
    "    \n",
    "    #Define variables\n",
    "    home_goals = match['home_team_goal']\n",
    "    away_goals = match['away_team_goal']\n",
    "     \n",
    "    outcome = pd.DataFrame()\n",
    "    outcome.loc[0,'match_api_id'] = match['match_api_id'] \n",
    "\n",
    "    #Identify match outcome  \n",
    "    if home_goals > away_goals:\n",
    "        outcome.loc[0,'outcome'] = \"Win\"\n",
    "    if home_goals == away_goals:\n",
    "        outcome.loc[0,'outcome'] = \"Draw\"\n",
    "    if home_goals < away_goals:\n",
    "        outcome.loc[0,'outcome'] = \"Defeat\"\n",
    "\n",
    "    #Return outcome        \n",
    "    return outcome.loc[0]\n",
    "\n",
    "\n",
    "''' Get the last x matches of a given team. '''\n",
    "def get_last_matches(matches, date, team, x = 10):\n",
    "    #Filter team matches from matches\n",
    "    team_matches = matches[(matches['home_team_api_id'] == team) | (matches['away_team_api_id'] == team)]\n",
    "                           \n",
    "    #Filter x last matches from team matches\n",
    "    last_matches = team_matches[team_matches.date < date].sort_values(by = 'date', ascending = False).iloc[0:x,:]\n",
    "    \n",
    "    #Return last matches\n",
    "    return last_matches\n",
    "    \n",
    "    \n",
    "''' Get the last team stats of a given team. '''\n",
    "def get_last_team_stats(team_id, date, team_stats):\n",
    "    #Filter team stats\n",
    "    all_team_stats = teams_stats[teams_stats['team_api_id'] == team_id]\n",
    "           \n",
    "    #Filter last stats from team\n",
    "    last_team_stats = all_team_stats[all_team_stats.date < date].sort_values(by='date', ascending=False)\n",
    "    if last_team_stats.empty:\n",
    "        last_team_stats = all_team_stats[all_team_stats.date > date].sort_values(by='date', ascending=True)\n",
    "\n",
    "    #Return last matches\n",
    "    return last_team_stats.iloc[0:1,:]\n",
    "    \n",
    "    \n",
    "''' Get the last x matches of two given teams. '''\n",
    "def get_last_matches_against_eachother(matches, date, home_team, away_team, x = 10):\n",
    "    #Find matches of both teams\n",
    "    home_matches = matches[(matches['home_team_api_id'] == home_team) & (matches['away_team_api_id'] == away_team)]    \n",
    "    away_matches = matches[(matches['home_team_api_id'] == away_team) & (matches['away_team_api_id'] == home_team)]  \n",
    "    total_matches = pd.concat([home_matches, away_matches])\n",
    "    \n",
    "    #Get last x matches\n",
    "    try:    \n",
    "        last_matches = total_matches[total_matches.date < date].sort_values(by = 'date', ascending = False).iloc[0:x,:]\n",
    "    except:\n",
    "        last_matches = total_matches[total_matches.date < date].sort_values(by = 'date', ascending = False).iloc[0:total_matches.shape[0],:]\n",
    "        \n",
    "        #Check for error in data\n",
    "        if(last_matches.shape[0] > x):\n",
    "            print(\"Error in obtaining matches\")\n",
    "            \n",
    "    #Return data\n",
    "    return last_matches\n",
    "\n",
    "\n",
    "''' Get the goals[home & away] of a specfic team from a set of matches. '''\n",
    "def get_goals(matches, team):\n",
    "    home_goals = int(matches.home_team_goal[matches.home_team_api_id == team].sum())\n",
    "    away_goals = int(matches.away_team_goal[matches.away_team_api_id == team].sum())\n",
    "\n",
    "    total_goals = home_goals + away_goals\n",
    "    \n",
    "    return total_goals\n",
    "\n",
    "\n",
    "''' Get the goals[home & away] conceided of a specfic team from a set of matches. '''\n",
    "def get_goals_conceided(matches, team):\n",
    "    home_goals = int(matches.home_team_goal[matches.away_team_api_id == team].sum())\n",
    "    away_goals = int(matches.away_team_goal[matches.home_team_api_id == team].sum())\n",
    "\n",
    "    total_goals = home_goals + away_goals\n",
    "\n",
    "    return total_goals\n",
    "\n",
    "\n",
    "''' Get the number of wins of a specfic team from a set of matches. '''\n",
    "def get_wins(matches, team):\n",
    "    #Find home and away wins\n",
    "    home_wins = int(matches.home_team_goal[(matches.home_team_api_id == team) & (matches.home_team_goal > matches.away_team_goal)].count())\n",
    "    away_wins = int(matches.away_team_goal[(matches.away_team_api_id == team) & (matches.away_team_goal > matches.home_team_goal)].count())\n",
    "\n",
    "    total_wins = home_wins + away_wins\n",
    "\n",
    "    return total_wins \n",
    "\n",
    "\n",
    "''' Create match specific features for a given match. '''\n",
    "def get_match_features(match, matches, teams_stats, x = 10):\n",
    "    #Define variables\n",
    "    date = match.date\n",
    "    home_team = match.home_team_api_id\n",
    "    away_team = match.away_team_api_id\n",
    "    \n",
    "     # Gets home and away team_stats\n",
    "    home_team_stats = get_last_team_stats(home_team, date, teams_stats);\n",
    "    away_team_stats = get_last_team_stats(away_team, date, teams_stats);\n",
    "    \n",
    "    #Get last x matches of home and away team\n",
    "    matches_home_team = get_last_matches(matches, date, home_team, x = 5)\n",
    "    matches_away_team = get_last_matches(matches, date, away_team, x = 5)\n",
    "    \n",
    "    #Get last x matches of both teams against each other\n",
    "    last_matches_against = get_last_matches_against_eachother(matches, date, home_team, away_team, x = 3)\n",
    "    \n",
    "    #Create goal variables\n",
    "    home_goals = get_goals(matches_home_team, home_team)\n",
    "    away_goals = get_goals(matches_away_team, away_team)\n",
    "    home_goals_conceided = get_goals_conceided(matches_home_team, home_team)\n",
    "    away_goals_conceided = get_goals_conceided(matches_away_team, away_team)\n",
    "    \n",
    "    #Define result data frame\n",
    "    result = pd.DataFrame()\n",
    "    \n",
    "    #Define ID features\n",
    "    result.loc[0, 'match_api_id'] = match.match_api_id\n",
    "    result.loc[0, 'league_id'] = match.league_id\n",
    "    \n",
    "    #Create match features and team stats\n",
    "    if(not home_team_stats.empty):\n",
    "        result.loc[0, 'home_team_buildUpPlaySpeed'] = home_team_stats['buildUpPlaySpeed'].values[0]\n",
    "        result.loc[0, 'home_team_buildUpPlayPassing'] = home_team_stats['buildUpPlayPassing'].values[0]\n",
    "        result.loc[0, 'home_team_chanceCreationPassing'] = home_team_stats['chanceCreationPassing'].values[0]\n",
    "        result.loc[0, 'home_team_chanceCreationCrossing'] = home_team_stats['chanceCreationCrossing'].values[0]\n",
    "        result.loc[0, 'home_team_chanceCreationShooting'] = home_team_stats['chanceCreationShooting'].values[0]\n",
    "        result.loc[0, 'home_team_defencePressure'] = home_team_stats['defencePressure'].values[0]\n",
    "        result.loc[0, 'home_team_defenceAggression'] = home_team_stats['defenceAggression'].values[0]\n",
    "        result.loc[0, 'home_team_defenceTeamWidth'] = home_team_stats['defenceTeamWidth'].values[0]\n",
    "        result.loc[0, 'home_team_avg_shots'] = home_team_stats['avg_shots'].values[0]\n",
    "        result.loc[0, 'home_team_avg_corners'] = home_team_stats['avg_corners'].values[0]\n",
    "        result.loc[0, 'home_team_avg_crosses'] = away_team_stats['avg_crosses'].values[0]\n",
    "    \n",
    "    if(not away_team_stats.empty):\n",
    "        result.loc[0, 'away_team_buildUpPlaySpeed'] = away_team_stats['buildUpPlaySpeed'].values[0]\n",
    "        result.loc[0, 'away_team_buildUpPlayPassing'] = away_team_stats['buildUpPlayPassing'].values[0]\n",
    "        result.loc[0, 'away_team_chanceCreationPassing'] = away_team_stats['chanceCreationPassing'].values[0]\n",
    "        result.loc[0, 'away_team_chanceCreationCrossing'] = away_team_stats['chanceCreationCrossing'].values[0]\n",
    "        result.loc[0, 'away_team_chanceCreationShooting'] = away_team_stats['chanceCreationShooting'].values[0]\n",
    "        result.loc[0, 'away_team_defencePressure'] = away_team_stats['defencePressure'].values[0]\n",
    "        result.loc[0, 'away_team_defenceAggression'] = away_team_stats['defenceAggression'].values[0]\n",
    "        result.loc[0, 'away_team_defenceTeamWidth'] = away_team_stats['defenceTeamWidth'].values[0]\n",
    "        result.loc[0, 'away_team_avg_shots'] = away_team_stats['avg_shots'].values[0]\n",
    "        result.loc[0, 'away_team_avg_corners'] = away_team_stats['avg_corners'].values[0]\n",
    "        result.loc[0, 'away_team_avg_crosses'] = away_team_stats['avg_crosses'].values[0]\n",
    "    \n",
    "    result.loc[0, 'home_team_goals_difference'] = home_goals - home_goals_conceided\n",
    "    result.loc[0, 'away_team_goals_difference'] = away_goals - away_goals_conceided\n",
    "    result.loc[0, 'games_won_home_team'] = get_wins(matches_home_team, home_team) \n",
    "    result.loc[0, 'games_won_away_team'] = get_wins(matches_away_team, away_team)\n",
    "    result.loc[0, 'games_against_won'] = get_wins(last_matches_against, home_team)\n",
    "    result.loc[0, 'games_against_lost'] = get_wins(last_matches_against, away_team)\n",
    "    result.loc[0, 'B365H'] = match.B365H\n",
    "    result.loc[0, 'B365D'] = match.B365D\n",
    "    result.loc[0, 'B365A'] = match.B365A\n",
    "    \n",
    "    #Return match features\n",
    "    return result.loc[0]\n",
    "\n",
    "''' Create and aggregate features and labels for all matches. '''\n",
    "def get_features(matches, teams_stats, fifa, x = 10, get_overall = False):  \n",
    "    #Get fifa stats features\n",
    "    fifa_stats = get_overall_fifa_rankings(fifa, get_overall)\n",
    "    \n",
    "    #Get match features for all matches\n",
    "    match_stats = matches.apply(lambda i: get_match_features(i, matches, teams_stats, x = 10), axis = 1)\n",
    "    \n",
    "    #Create dummies for league ID feature\n",
    "    dummies = pd.get_dummies(match_stats['league_id']).rename(columns = lambda x: 'League_' + str(x))\n",
    "    match_stats = pd.concat([match_stats, dummies], axis = 1)\n",
    "    match_stats.drop(['league_id'], inplace = True, axis = 1)\n",
    "    \n",
    "    #Create match outcomes\n",
    "    outcomes = matches.apply(get_match_outcome, axis = 1)\n",
    "\n",
    "    #Merges features and outcomes into one frame\n",
    "    features = pd.merge(match_stats, fifa_stats, on = 'match_api_id', how = 'left')\n",
    "    features = pd.merge(features, outcomes, on = 'match_api_id', how = 'left')\n",
    "    \n",
    "    #Drop NA values\n",
    "    features.dropna(inplace = True)\n",
    "    \n",
    "    #Return preprocessed data\n",
    "    return features\n",
    "\n",
    "\n",
    "def get_overall_fifa_rankings(fifa, get_overall = False):\n",
    "    ''' Get overall fifa rankings from fifa data. '''\n",
    "      \n",
    "    temp_data = fifa\n",
    "    \n",
    "    #Check if only overall player stats are desired\n",
    "    if get_overall == True:\n",
    "        \n",
    "        #Get overall stats\n",
    "        data = temp_data.loc[:,(fifa.columns.str.contains('overall_rating'))]\n",
    "        data.loc[:,'match_api_id'] = temp_data.loc[:,'match_api_id']\n",
    "    else:\n",
    "        \n",
    "        #Get all stats except for stat date\n",
    "        cols = fifa.loc[:,(fifa.columns.str.contains('date_stat'))]\n",
    "        temp_data = fifa.drop(cols.columns, axis = 1)        \n",
    "        data = temp_data\n",
    "    \n",
    "    #Return data\n",
    "    return data"
   ]
  },
  {
   "cell_type": "code",
   "execution_count": null,
   "metadata": {},
   "outputs": [],
   "source": [
    "viable_matches = matches\n",
    "viable_matches.describe()"
   ]
  },
  {
   "cell_type": "markdown",
   "metadata": {},
   "source": [
    "Looking at the match data we can see that most columns have 25979 values. This means we are analysing this number of matches from the database. We can start by looking at the bookkeeper data. We can see that the number of bookkepper match data is different for each bookkeper. We start by selecting the bookeeper with the most predictions data available."
   ]
  },
  {
   "cell_type": "code",
   "execution_count": null,
   "metadata": {},
   "outputs": [],
   "source": [
    "viable_matches = matches.sample(n=5000)\n",
    "b365 = viable_matches.dropna(subset=['B365H', 'B365D', 'B365A'],inplace=False)\n",
    "b365.drop(['BWH', 'BWD', 'BWA', \n",
    "          'IWH', 'IWD', 'IWA',  \n",
    "          'LBH', 'LBD', 'LBA',\n",
    "          'PSH', 'PSD', 'PSA',\n",
    "          'WHH', 'WHD', 'WHA',\n",
    "          'SJH', 'SJD', 'SJA',\n",
    "          'VCH', 'VCD', 'VCA', \n",
    "          'GBH', 'GBD', 'GBA', \n",
    "          'BSH', 'BSD', 'BSA'], inplace = True, axis = 1)\n",
    "\n",
    "bw = viable_matches.dropna(subset=['BWH', 'BWD', 'BWA'],inplace=False)\n",
    "bw.drop(['B365H', 'B365D', 'B365A', \n",
    "          'IWH', 'IWD', 'IWA',  \n",
    "          'LBH', 'LBD', 'LBA',\n",
    "          'PSH', 'PSD', 'PSA',\n",
    "          'WHH', 'WHD', 'WHA',\n",
    "          'SJH', 'SJD', 'SJA',\n",
    "          'VCH', 'VCD', 'VCA', \n",
    "          'GBH', 'GBD', 'GBA', \n",
    "          'BSH', 'BSD', 'BSA'], inplace=True, axis = 1)\n",
    "\n",
    "iw = viable_matches.dropna(subset=['IWH', 'IWD', 'IWA'],inplace=False)\n",
    "iw.drop(['B365H', 'B365D', 'B365A', \n",
    "          'BWH', 'BWD', 'BWA',  \n",
    "          'LBH', 'LBD', 'LBA',\n",
    "          'PSH', 'PSD', 'PSA',\n",
    "          'WHH', 'WHD', 'WHA',\n",
    "          'SJH', 'SJD', 'SJA',\n",
    "          'VCH', 'VCD', 'VCA', \n",
    "          'GBH', 'GBD', 'GBA', \n",
    "          'BSH', 'BSD', 'BSA'], inplace=True, axis = 1)\n",
    "\n",
    "lb = viable_matches.dropna(subset=['LBH', 'LBD', 'LBA'],inplace=False)\n",
    "lb.drop(['B365H', 'B365D', 'B365A', \n",
    "          'BWH', 'BWD', 'BWA',  \n",
    "          'IWH', 'IWD', 'IWA',\n",
    "          'PSH', 'PSD', 'PSA',\n",
    "          'WHH', 'WHD', 'WHA',\n",
    "          'SJH', 'SJD', 'SJA',\n",
    "          'VCH', 'VCD', 'VCA', \n",
    "          'GBH', 'GBD', 'GBA', \n",
    "          'BSH', 'BSD', 'BSA'], inplace=True, axis = 1)\n",
    "\n",
    "ps = viable_matches.dropna(subset=['PSH', 'PSD', 'PSA'],inplace=False)\n",
    "ps.drop(['B365H', 'B365D', 'B365A', \n",
    "          'BWH', 'BWD', 'BWA',  \n",
    "          'IWH', 'IWD', 'IWA',\n",
    "          'LBH', 'LBD', 'LBA',\n",
    "          'WHH', 'WHD', 'WHA',\n",
    "          'SJH', 'SJD', 'SJA',\n",
    "          'VCH', 'VCD', 'VCA', \n",
    "          'GBH', 'GBD', 'GBA', \n",
    "          'BSH', 'BSD', 'BSA'], inplace=True, axis = 1)\n",
    "\n",
    "wh = viable_matches.dropna(subset=['WHH', 'WHD', 'WHA'],inplace=False)\n",
    "wh.drop(['B365H', 'B365D', 'B365A', \n",
    "          'BWH', 'BWD', 'BWA',  \n",
    "          'IWH', 'IWD', 'IWA',\n",
    "          'LBH', 'LBD', 'LBA',\n",
    "          'PSH', 'PSD', 'PSA',\n",
    "          'SJH', 'SJD', 'SJA',\n",
    "          'VCH', 'VCD', 'VCA', \n",
    "          'GBH', 'GBD', 'GBA', \n",
    "          'BSH', 'BSD', 'BSA'], inplace=True, axis = 1)\n",
    "\n",
    "sj = viable_matches.dropna(subset=['SJH', 'SJD', 'SJA'],inplace=False)\n",
    "sj.drop(['B365H', 'B365D', 'B365A', \n",
    "          'BWH', 'BWD', 'BWA',  \n",
    "          'IWH', 'IWD', 'IWA',\n",
    "          'LBH', 'LBD', 'LBA',\n",
    "          'PSH', 'PSD', 'PSA',\n",
    "          'WHH', 'WHD', 'WHA',\n",
    "          'VCH', 'VCD', 'VCA', \n",
    "          'GBH', 'GBD', 'GBA', \n",
    "          'BSH', 'BSD', 'BSA'], inplace=True, axis = 1)\n",
    "\n",
    "vc = viable_matches.dropna(subset=['VCH', 'VCD', 'VCA'],inplace=False)\n",
    "vc.drop(['B365H', 'B365D', 'B365A', \n",
    "          'BWH', 'BWD', 'BWA',  \n",
    "          'IWH', 'IWD', 'IWA',\n",
    "          'LBH', 'LBD', 'LBA',\n",
    "          'PSH', 'PSD', 'PSA',\n",
    "          'WHH', 'WHD', 'WHA',\n",
    "          'SJH', 'SJD', 'SJA', \n",
    "          'GBH', 'GBD', 'GBA', \n",
    "          'BSH', 'BSD', 'BSA'], inplace=True, axis = 1)\n",
    "\n",
    "gb = viable_matches.dropna(subset=['GBH', 'GBD', 'GBA'],inplace=False)\n",
    "gb.drop(['B365H', 'B365D', 'B365A', \n",
    "          'BWH', 'BWD', 'BWA',  \n",
    "          'IWH', 'IWD', 'IWA',\n",
    "          'LBH', 'LBD', 'LBA',\n",
    "          'PSH', 'PSD', 'PSA',\n",
    "          'WHH', 'WHD', 'WHA',\n",
    "          'SJH', 'SJD', 'SJA', \n",
    "          'VCH', 'VCD', 'VCA', \n",
    "          'BSH', 'BSD', 'BSA'], inplace=True, axis = 1)\n",
    "\n",
    "bs = viable_matches.dropna(subset=['BSH', 'BSD', 'BSA'],inplace=False)\n",
    "bs.drop(['B365H', 'B365D', 'B365A', \n",
    "          'BWH', 'BWD', 'BWA',  \n",
    "          'IWH', 'IWD', 'IWA',\n",
    "          'LBH', 'LBD', 'LBA',\n",
    "          'PSH', 'PSD', 'PSA',\n",
    "          'WHH', 'WHD', 'WHA',\n",
    "          'SJH', 'SJD', 'SJA', \n",
    "          'VCH', 'VCD', 'VCA', \n",
    "          'GBH', 'GBD', 'GBA'], inplace=True, axis = 1)\n",
    "\n",
    "lis = [b365, bw, iw, lb, ps, wh, sj, vc, gb, bs]\n",
    "\n",
    "viable_matches = max(lis, key = lambda datframe: datframe.shape[0])\n",
    "viable_matches.describe()"
   ]
  },
  {
   "cell_type": "markdown",
   "metadata": {},
   "source": [
    "Analysing the description of the dataframe, we can see that the bookkeper regarding Bet 365 has the most available information and, has such, we will decide to selected it as a feature input for our models\n",
    "\n",
    "We also need to consider that some of these matches may not be on the team attributes that we will clean after this. In that case, we need to remove any matches that does not contain any team stats information, since **mean imputation** would't work in these case.\n",
    "\n",
    "We also need to remove some rows that do not contain any information about the position of the players for some matches"
   ]
  },
  {
   "cell_type": "code",
   "execution_count": null,
   "metadata": {},
   "outputs": [],
   "source": [
    "teams_stats = team_attributes\n",
    "viable_matches = viable_matches.dropna(inplace=False)\n",
    "\n",
    "home_teams = viable_matches['home_team_api_id'].isin(teams_stats['team_api_id'].tolist())\n",
    "away_teams = viable_matches['away_team_api_id'].isin(teams_stats['team_api_id'].tolist())\n",
    "viable_matches = viable_matches[home_teams & away_teams]\n",
    "\n",
    "viable_matches.describe()"
   ]
  },
  {
   "cell_type": "markdown",
   "metadata": {},
   "source": [
    "### Team Stats - Team Attributes"
   ]
  },
  {
   "cell_type": "code",
   "execution_count": null,
   "metadata": {},
   "outputs": [],
   "source": [
    "teams_stats.describe()"
   ]
  },
  {
   "cell_type": "markdown",
   "metadata": {},
   "source": [
    "Looking at the description of team attributes we can see that there are a lot of values missing from the column buildUpPlayDribbling, and all the other values seem to have the right amout of rows. This means that there are a lot of values with 'Nan' on this column.\n",
    "\n",
    "It's not ideal that we just drop those rows. Seems like the missing data on the column is systematic - all of the missing values are in the same column - this error could potentially bias our analysis\n",
    "\n",
    "One way to deal with missing values is **mean imputation**. If we know that the values for a measurement fall in a certain range, we can fill in empty values with the average of that measure.\n"
   ]
  },
  {
   "cell_type": "code",
   "execution_count": null,
   "metadata": {},
   "outputs": [],
   "source": [
    "teams_stats['buildUpPlayDribbling'].hist();"
   ]
  },
  {
   "cell_type": "markdown",
   "metadata": {},
   "source": [
    "We can see that most buildUpPlayDribbling values fall within the 45 - 55 range, so let's fill in these entries with the average measured buildUpPlaySpeed"
   ]
  },
  {
   "cell_type": "code",
   "execution_count": null,
   "metadata": {},
   "outputs": [],
   "source": [
    "build_up_play_drib_avg = teams_stats['buildUpPlayDribbling'].mean()\n",
    "# mean imputation\n",
    "teams_stats.loc[(teams_stats['buildUpPlayDribbling'].isnull()), 'buildUpPlayDribbling'] = build_up_play_drib_avg\n",
    "# showing new values\n",
    "teams_stats.loc[teams_stats['buildUpPlayDribbling'] == build_up_play_drib_avg].head()"
   ]
  },
  {
   "cell_type": "code",
   "execution_count": null,
   "metadata": {},
   "outputs": [],
   "source": [
    "teams_stats.loc[(teams_stats['buildUpPlayDribbling'].isnull())]"
   ]
  },
  {
   "cell_type": "markdown",
   "metadata": {},
   "source": [
    "Having done the **mean imputation** for team_attributes we can see that there are no longer missing values for the buildUpPlayDribbling. After that, we decided to select only continuous data, i.e, select only columns that \"store\" numerical values that we will provide to the input of the supervised learning models."
   ]
  },
  {
   "cell_type": "code",
   "execution_count": null,
   "metadata": {},
   "outputs": [],
   "source": [
    "teams_stats.drop(['buildUpPlaySpeedClass', 'buildUpPlayDribblingClass', 'buildUpPlayPassingClass', \n",
    "    'buildUpPlayPositioningClass', 'chanceCreationPassingClass', 'chanceCreationCrossingClass',  \n",
    "    'chanceCreationShootingClass','chanceCreationPositioningClass','defencePressureClass', 'defenceAggressionClass', \n",
    "    'defenceTeamWidthClass','defenceDefenderLineClass'], inplace = True, axis = 1)\n",
    "\n",
    "teams_stats.describe()"
   ]
  },
  {
   "cell_type": "markdown",
   "metadata": {},
   "source": [
    "### Team Stats - Shots\n",
    "After cleaning the team attributes data we need to consider adding some more stats to each match. We will start by adding the average of the number of shots per team. The number of shots consists on the sum of the shots on target and the shots of target. After merging all the information to teams_stats we have to analyse the data again."
   ]
  },
  {
   "cell_type": "code",
   "execution_count": null,
   "metadata": {},
   "outputs": [],
   "source": [
    "shots_off = pd.read_csv(\"../dataset/shotoff_detail.csv\")\n",
    "shots_on = pd.read_csv(\"../dataset/shoton_detail.csv\")\n",
    "shots = pd.concat([shots_off[['match_id', 'team']], shots_on[['match_id', 'team']]])\n",
    "\n",
    "total_shots = shots[\"team\"].value_counts()\n",
    "total_matches = shots.drop_duplicates(['match_id', 'team'])[\"team\"].value_counts()\n",
    "\n",
    "for index, n_shots in total_shots.iteritems():\n",
    "    n_matches = total_matches[index]\n",
    "    avg_shots = n_shots / n_matches\n",
    "    teams_stats.loc[teams_stats['team_api_id'] == index, 'avg_shots'] = avg_shots\n",
    "    \n",
    "teams_stats.describe()"
   ]
  },
  {
   "cell_type": "markdown",
   "metadata": {},
   "source": [
    "As we can see, there are a lot of Nan values on the avg_shots column. This represents teams that did not have shots data on this dataset. Instead of removing thoose rows, and give less input to our models we need again to do **mean imputation** and deal with these values"
   ]
  },
  {
   "cell_type": "code",
   "execution_count": null,
   "metadata": {},
   "outputs": [],
   "source": [
    "teams_stats['avg_shots'].hist();"
   ]
  },
  {
   "cell_type": "markdown",
   "metadata": {},
   "source": [
    "We can see that most avg_shots values fall within the 7 - 14 range, so let's fill in these entries with the average measured avg_shots"
   ]
  },
  {
   "cell_type": "code",
   "execution_count": null,
   "metadata": {},
   "outputs": [],
   "source": [
    "shots_avg_team_avg = teams_stats['avg_shots'].mean()\n",
    "# mean imputation\n",
    "teams_stats.loc[(teams_stats['avg_shots'].isnull()), 'avg_shots'] = shots_avg_team_avg\n",
    "# showing new values\n",
    "teams_stats.describe()"
   ]
  },
  {
   "cell_type": "code",
   "execution_count": null,
   "metadata": {},
   "outputs": [],
   "source": [
    "teams_stats.loc[(teams_stats['avg_shots'].isnull())]"
   ]
  },
  {
   "cell_type": "markdown",
   "metadata": {},
   "source": [
    "Having done the **mean imputation** for team_attributes we can see that there are no longer missing values for the avg_shots."
   ]
  },
  {
   "cell_type": "markdown",
   "metadata": {},
   "source": [
    "### Team Stats - Possession"
   ]
  },
  {
   "cell_type": "markdown",
   "metadata": {},
   "source": [
    "We will now add another stat, the ball possession. One of the more important statistics to predict the match results. If we analyse the most dominating teams usually control the ball possession very easily. We can see first that the csv have repeated values for the ball possession, for each match, based on the elapsed time of the match. We need to remove all the values that do not refer to the 90 minutes mark of the elapsed time."
   ]
  },
  {
   "cell_type": "code",
   "execution_count": null,
   "metadata": {},
   "outputs": [],
   "source": [
    "# possessions read, cleanup and merge\n",
    "possessions_data = pd.read_csv(\"../dataset/possession_detail.csv\")\n",
    "last_possessions = possessions_data.loc[(possessions_data['elapsed'] == 90)]\n",
    "last_possessions = last_possessions[['match_id', 'homepos', 'awaypos']]"
   ]
  },
  {
   "cell_type": "markdown",
   "metadata": {},
   "source": [
    "After reading it, we need to see if the number of possession data we have available is enough to be considered"
   ]
  },
  {
   "cell_type": "code",
   "execution_count": null,
   "metadata": {},
   "outputs": [],
   "source": [
    "# get the ids of the home_team and away_team to be able to join with teams later\n",
    "possessions = pd.DataFrame(columns=['team', 'possession', 'match'])\n",
    "for index, row in last_possessions.iterrows():\n",
    "    match = viable_matches.loc[viable_matches['id'] == row['match_id'], ['home_team_api_id', 'away_team_api_id']]\n",
    "    if match.empty is True:\n",
    "        continue\n",
    "    hometeam = match['home_team_api_id'].values[0]\n",
    "    awayteam = match['away_team_api_id'].values[0]\n",
    "    possessions = possessions.append({'team': hometeam, 'possession': row['homepos'], 'match': row['match_id']}, ignore_index=True)\n",
    "    possessions = possessions.append({'team': awayteam, 'possession': row['awaypos'], 'match': row['match_id']}, ignore_index=True)\n",
    "\n",
    "total_possessions = possessions.groupby(by=['team'])['possession'].sum()\n",
    "total_matches = possessions.drop_duplicates(['team', 'match'])[\"team\"].value_counts()\n",
    "    \n",
    "total_possessions.to_frame().describe()"
   ]
  },
  {
   "cell_type": "markdown",
   "metadata": {},
   "source": [
    "Since the number of average possession regarding the number of viable matches is very low it doesn't make any sense to do **mean imputation** in this instance. After carefully consideration, we decided to scrap this attribute, even though this attribute as a very important meaning. This reflects the poor usability of this dataset"
   ]
  },
  {
   "cell_type": "markdown",
   "metadata": {},
   "source": [
    "### Team Stats - Corners\n",
    "We will try to add yet another feature. This is time the corners, also an important measurement of domination in a football match. After merging all corners data that were given to us we can see that there are some values missing."
   ]
  },
  {
   "cell_type": "code",
   "execution_count": null,
   "metadata": {},
   "outputs": [],
   "source": [
    "corners_data = pd.read_csv(\"../dataset/corner_detail.csv\")\n",
    "corners = corners_data[['match_id', 'team']]\n",
    "\n",
    "total_corners = corners[\"team\"].value_counts()\n",
    "total_matches = corners.drop_duplicates(['match_id', 'team'])[\"team\"].value_counts()\n",
    "\n",
    "for index, n_corners in total_shots.iteritems():\n",
    "    n_matches = total_matches[index]\n",
    "    avg_corners = n_corners / n_matches\n",
    "    teams_stats.loc[teams_stats['team_api_id'] == index, 'avg_corners'] = avg_corners\n",
    "    \n",
    "teams_stats.describe()"
   ]
  },
  {
   "cell_type": "markdown",
   "metadata": {},
   "source": [
    "As we can see, there are a lot of Nan values on the avg_corners column. This represents teams that did not have corners data on this dataset. Instead of removing thoose rows, and give less input to our models we need again to do **mean imputation** and deal with these values"
   ]
  },
  {
   "cell_type": "code",
   "execution_count": null,
   "metadata": {},
   "outputs": [],
   "source": [
    "teams_stats['avg_corners'].hist();"
   ]
  },
  {
   "cell_type": "markdown",
   "metadata": {},
   "source": [
    "We can see that most avg_corners values fall within the 8.5 - 12 range, so let's fill in these entries with the average measured avg_corners"
   ]
  },
  {
   "cell_type": "code",
   "execution_count": null,
   "metadata": {},
   "outputs": [],
   "source": [
    "corners_avg_team_avg = teams_stats['avg_corners'].mean()\n",
    "# mean imputation\n",
    "teams_stats.loc[(teams_stats['avg_corners'].isnull()), 'avg_corners'] = corners_avg_team_avg\n",
    "# showing new values\n",
    "teams_stats.describe()"
   ]
  },
  {
   "cell_type": "markdown",
   "metadata": {},
   "source": [
    "Having done the **mean imputation** for team_attributes we can see that there are no longer missing values for the avg_corners."
   ]
  },
  {
   "cell_type": "code",
   "execution_count": null,
   "metadata": {},
   "outputs": [],
   "source": [
    "teams_stats.loc[(teams_stats['avg_corners'].isnull())]"
   ]
  },
  {
   "cell_type": "markdown",
   "metadata": {},
   "source": [
    "### Team Stats - Crosses\n",
    "The final feature to be added is the crosses data. Normally the more dominant team has more crosses because it creates more opportunity of goals during a match. After maerging all the data we need to watch for missing rows on the new added column"
   ]
  },
  {
   "cell_type": "code",
   "execution_count": null,
   "metadata": {},
   "outputs": [],
   "source": [
    "crosses_data = pd.read_csv(\"../dataset/cross_detail.csv\")\n",
    "\n",
    "crosses = crosses_data[['match_id', 'team']]\n",
    "total_crosses = crosses[\"team\"].value_counts()\n",
    "total_matches = crosses.drop_duplicates(['match_id', 'team'])[\"team\"].value_counts()\n",
    "\n",
    "for index, n_crosses in total_crosses.iteritems():\n",
    "    n_matches = total_matches[index]\n",
    "    avg_crosses = n_crosses / n_matches\n",
    "    teams_stats.loc[teams_stats['team_api_id'] == index, 'avg_crosses'] = avg_crosses\n",
    "\n",
    "teams_stats.describe()"
   ]
  },
  {
   "cell_type": "markdown",
   "metadata": {},
   "source": [
    "As we can see, there are a lot of Nan values on the avg_crosses column. This represents teams that did not have crosses data on this dataset. Instead of removing thoose rows, and give less input to our models we need again to do **mean imputation** and deal with these values"
   ]
  },
  {
   "cell_type": "code",
   "execution_count": null,
   "metadata": {},
   "outputs": [],
   "source": [
    "teams_stats['avg_crosses'].hist();"
   ]
  },
  {
   "cell_type": "markdown",
   "metadata": {},
   "source": [
    "We can see that most avg_crosses values fall within the 12.5 - 17.5 range, so let's fill in these entries with the average measured avg_corners"
   ]
  },
  {
   "cell_type": "code",
   "execution_count": null,
   "metadata": {},
   "outputs": [],
   "source": [
    "crosses_avg_team_avg = teams_stats['avg_crosses'].mean()\n",
    "# mean imputation\n",
    "teams_stats.loc[(teams_stats['avg_crosses'].isnull()), 'avg_crosses'] = crosses_avg_team_avg\n",
    "# showing new values\n",
    "teams_stats.describe()"
   ]
  },
  {
   "cell_type": "markdown",
   "metadata": {},
   "source": [
    "Having done the **mean imputation** for team_attributes we can see that there are no longer missing values for the avg_crosses."
   ]
  },
  {
   "cell_type": "code",
   "execution_count": null,
   "metadata": {},
   "outputs": [],
   "source": [
    "teams_stats.loc[(teams_stats['avg_crosses'].isnull())]"
   ]
  },
  {
   "cell_type": "markdown",
   "metadata": {},
   "source": [
    "### FIFA data\n",
    "We will know gather the fifa data regarding the overrall rating of the teams"
   ]
  },
  {
   "cell_type": "code",
   "execution_count": null,
   "metadata": {},
   "outputs": [],
   "source": [
    "def get_fifa_stats(match, player_stats):\n",
    "    ''' Aggregates fifa stats for a given match. '''    \n",
    "    \n",
    "    #Define variables\n",
    "    match_id =  match.match_api_id\n",
    "    date = match['date']\n",
    "    players = ['home_player_1', 'home_player_2', 'home_player_3', \"home_player_4\", \"home_player_5\",\n",
    "               \"home_player_6\", \"home_player_7\", \"home_player_8\", \"home_player_9\", \"home_player_10\",\n",
    "               \"home_player_11\", \"away_player_1\", \"away_player_2\", \"away_player_3\", \"away_player_4\",\n",
    "               \"away_player_5\", \"away_player_6\", \"away_player_7\", \"away_player_8\", \"away_player_9\",\n",
    "               \"away_player_10\", \"away_player_11\"]\n",
    "    player_stats_new = pd.DataFrame()\n",
    "    names = []\n",
    "    \n",
    "    #Loop through all players\n",
    "    for player in players:   \n",
    "            \n",
    "        #Get player ID\n",
    "        player_id = match[player]\n",
    "        \n",
    "        #Get player stats \n",
    "        stats = player_stats[player_stats.player_api_id == player_id]\n",
    "            \n",
    "        #Identify current stats       \n",
    "        current_stats = stats[stats.date < date].sort_values(by = 'date', ascending = False)[:1]\n",
    "        \n",
    "        if np.isnan(player_id) == True:\n",
    "            overall_rating = pd.Series(0)\n",
    "        else:\n",
    "            current_stats.reset_index(inplace = True, drop = True)\n",
    "            overall_rating = pd.Series(current_stats.loc[0, \"overall_rating\"])\n",
    "\n",
    "        #Rename stat\n",
    "        name = \"{}_overall_rating\".format(player)\n",
    "        names.append(name)\n",
    "            \n",
    "        #Aggregate stats\n",
    "        player_stats_new = pd.concat([player_stats_new, overall_rating], axis = 1)\n",
    "    \n",
    "    player_stats_new.columns = names        \n",
    "    player_stats_new['match_api_id'] = match_id\n",
    "\n",
    "    player_stats_new.reset_index(inplace = True, drop = True)\n",
    "    \n",
    "    #Return player stats    \n",
    "    return player_stats_new.iloc[0]    \n",
    "\n",
    "\n",
    "def get_fifa_data(matches, player_stats, path = None, data_exists = False):\n",
    "    ''' Gets fifa data for all matches. '''  \n",
    "    \n",
    "    #Check if fifa data already exists\n",
    "    if data_exists == True:\n",
    "        fifa_data = pd.read_pickle(path)\n",
    "        \n",
    "    else:\n",
    "        print(\"Collecting fifa data for each match...\")       \n",
    "        start = time()\n",
    "        \n",
    "        #Apply get_fifa_stats for each match\n",
    "        fifa_data = matches.apply(lambda x :get_fifa_stats(x, player_stats), axis = 1)\n",
    "        \n",
    "        end = time()    \n",
    "        print(\"Fifa data collected in {:.1f} minutes\".format((end - start)/60))\n",
    "    \n",
    "    #Return fifa_data\n",
    "    return fifa_data"
   ]
  },
  {
   "cell_type": "code",
   "execution_count": null,
   "metadata": {},
   "outputs": [],
   "source": [
    "fifa_data = get_fifa_data(viable_matches, player_attributes, None, data_exists = False)\n",
    "fifa_data.describe()"
   ]
  },
  {
   "cell_type": "markdown",
   "metadata": {},
   "source": [
    "### Joining all features\n",
    "In this instance we need to join all features, select the input we will pass to our models, drop the column regarding the outcome label, and normalize all the features."
   ]
  },
  {
   "cell_type": "code",
   "execution_count": null,
   "metadata": {
    "scrolled": true
   },
   "outputs": [],
   "source": [
    "# Creates features and labels based on the provided data\n",
    "viables = get_features(viable_matches, teams_stats, fifa_data, 10, False)\n",
    "inputs = viables.drop('match_api_id', axis=1)\n",
    "outcomes = inputs.loc[:, 'outcome']"
   ]
  },
  {
   "cell_type": "markdown",
   "metadata": {},
   "source": [
    "To improve the overall measures of the supersived learning models we need to normalize our features before training our models."
   ]
  },
  {
   "cell_type": "code",
   "execution_count": 66,
   "metadata": {
    "scrolled": true
   },
   "outputs": [
    {
     "data": {
      "text/html": [
       "<div>\n",
       "<style scoped>\n",
       "    .dataframe tbody tr th:only-of-type {\n",
       "        vertical-align: middle;\n",
       "    }\n",
       "\n",
       "    .dataframe tbody tr th {\n",
       "        vertical-align: top;\n",
       "    }\n",
       "\n",
       "    .dataframe thead th {\n",
       "        text-align: right;\n",
       "    }\n",
       "</style>\n",
       "<table border=\"1\" class=\"dataframe\">\n",
       "  <thead>\n",
       "    <tr style=\"text-align: right;\">\n",
       "      <th></th>\n",
       "      <th>home_team_buildUpPlaySpeed</th>\n",
       "      <th>home_team_buildUpPlayPassing</th>\n",
       "      <th>home_team_chanceCreationPassing</th>\n",
       "      <th>home_team_chanceCreationCrossing</th>\n",
       "      <th>home_team_chanceCreationShooting</th>\n",
       "      <th>home_team_defencePressure</th>\n",
       "      <th>home_team_defenceAggression</th>\n",
       "      <th>home_team_defenceTeamWidth</th>\n",
       "      <th>home_team_avg_shots</th>\n",
       "      <th>home_team_avg_corners</th>\n",
       "      <th>...</th>\n",
       "      <th>away_player_2_overall_rating</th>\n",
       "      <th>away_player_3_overall_rating</th>\n",
       "      <th>away_player_4_overall_rating</th>\n",
       "      <th>away_player_5_overall_rating</th>\n",
       "      <th>away_player_6_overall_rating</th>\n",
       "      <th>away_player_7_overall_rating</th>\n",
       "      <th>away_player_8_overall_rating</th>\n",
       "      <th>away_player_9_overall_rating</th>\n",
       "      <th>away_player_10_overall_rating</th>\n",
       "      <th>away_player_11_overall_rating</th>\n",
       "    </tr>\n",
       "  </thead>\n",
       "  <tbody>\n",
       "    <tr>\n",
       "      <th>0</th>\n",
       "      <td>0.010012</td>\n",
       "      <td>0.016018</td>\n",
       "      <td>0.023227</td>\n",
       "      <td>0.016819</td>\n",
       "      <td>0.020824</td>\n",
       "      <td>0.019623</td>\n",
       "      <td>0.018021</td>\n",
       "      <td>0.018822</td>\n",
       "      <td>0.003996</td>\n",
       "      <td>0.004053</td>\n",
       "      <td>...</td>\n",
       "      <td>0.028833</td>\n",
       "      <td>0.028433</td>\n",
       "      <td>0.028032</td>\n",
       "      <td>0.028833</td>\n",
       "      <td>0.028833</td>\n",
       "      <td>0.029234</td>\n",
       "      <td>0.029634</td>\n",
       "      <td>0.030035</td>\n",
       "      <td>0.028032</td>\n",
       "      <td>0.025630</td>\n",
       "    </tr>\n",
       "    <tr>\n",
       "      <th>1</th>\n",
       "      <td>0.019782</td>\n",
       "      <td>0.019782</td>\n",
       "      <td>0.020994</td>\n",
       "      <td>0.021397</td>\n",
       "      <td>0.027049</td>\n",
       "      <td>0.017360</td>\n",
       "      <td>0.018571</td>\n",
       "      <td>0.020186</td>\n",
       "      <td>0.004271</td>\n",
       "      <td>0.004363</td>\n",
       "      <td>...</td>\n",
       "      <td>0.029068</td>\n",
       "      <td>0.029875</td>\n",
       "      <td>0.029472</td>\n",
       "      <td>0.028664</td>\n",
       "      <td>0.030279</td>\n",
       "      <td>0.032298</td>\n",
       "      <td>0.030279</td>\n",
       "      <td>0.031087</td>\n",
       "      <td>0.029875</td>\n",
       "      <td>0.029472</td>\n",
       "    </tr>\n",
       "    <tr>\n",
       "      <th>2</th>\n",
       "      <td>0.021266</td>\n",
       "      <td>0.021266</td>\n",
       "      <td>0.019332</td>\n",
       "      <td>0.021266</td>\n",
       "      <td>0.027065</td>\n",
       "      <td>0.019332</td>\n",
       "      <td>0.023199</td>\n",
       "      <td>0.021266</td>\n",
       "      <td>0.005135</td>\n",
       "      <td>0.005184</td>\n",
       "      <td>...</td>\n",
       "      <td>0.027839</td>\n",
       "      <td>0.029385</td>\n",
       "      <td>0.028999</td>\n",
       "      <td>0.027839</td>\n",
       "      <td>0.027065</td>\n",
       "      <td>0.029385</td>\n",
       "      <td>0.027839</td>\n",
       "      <td>0.029772</td>\n",
       "      <td>0.026679</td>\n",
       "      <td>0.028612</td>\n",
       "    </tr>\n",
       "    <tr>\n",
       "      <th>3</th>\n",
       "      <td>0.018180</td>\n",
       "      <td>0.015473</td>\n",
       "      <td>0.015859</td>\n",
       "      <td>0.015859</td>\n",
       "      <td>0.024369</td>\n",
       "      <td>0.024369</td>\n",
       "      <td>0.020888</td>\n",
       "      <td>0.021662</td>\n",
       "      <td>0.005586</td>\n",
       "      <td>0.005604</td>\n",
       "      <td>...</td>\n",
       "      <td>0.027077</td>\n",
       "      <td>0.027851</td>\n",
       "      <td>0.027851</td>\n",
       "      <td>0.027464</td>\n",
       "      <td>0.028624</td>\n",
       "      <td>0.028238</td>\n",
       "      <td>0.028238</td>\n",
       "      <td>0.030558</td>\n",
       "      <td>0.026690</td>\n",
       "      <td>0.028238</td>\n",
       "    </tr>\n",
       "    <tr>\n",
       "      <th>4</th>\n",
       "      <td>0.019584</td>\n",
       "      <td>0.019584</td>\n",
       "      <td>0.020783</td>\n",
       "      <td>0.021182</td>\n",
       "      <td>0.026778</td>\n",
       "      <td>0.017186</td>\n",
       "      <td>0.018385</td>\n",
       "      <td>0.019983</td>\n",
       "      <td>0.004228</td>\n",
       "      <td>0.004319</td>\n",
       "      <td>...</td>\n",
       "      <td>0.029575</td>\n",
       "      <td>0.030375</td>\n",
       "      <td>0.031174</td>\n",
       "      <td>0.028376</td>\n",
       "      <td>0.029975</td>\n",
       "      <td>0.023980</td>\n",
       "      <td>0.029575</td>\n",
       "      <td>0.031973</td>\n",
       "      <td>0.032373</td>\n",
       "      <td>0.030375</td>\n",
       "    </tr>\n",
       "  </tbody>\n",
       "</table>\n",
       "<p>5 rows × 60 columns</p>\n",
       "</div>"
      ],
      "text/plain": [
       "   home_team_buildUpPlaySpeed  home_team_buildUpPlayPassing  \\\n",
       "0                    0.010012                      0.016018   \n",
       "1                    0.019782                      0.019782   \n",
       "2                    0.021266                      0.021266   \n",
       "3                    0.018180                      0.015473   \n",
       "4                    0.019584                      0.019584   \n",
       "\n",
       "   home_team_chanceCreationPassing  home_team_chanceCreationCrossing  \\\n",
       "0                         0.023227                          0.016819   \n",
       "1                         0.020994                          0.021397   \n",
       "2                         0.019332                          0.021266   \n",
       "3                         0.015859                          0.015859   \n",
       "4                         0.020783                          0.021182   \n",
       "\n",
       "   home_team_chanceCreationShooting  home_team_defencePressure  \\\n",
       "0                          0.020824                   0.019623   \n",
       "1                          0.027049                   0.017360   \n",
       "2                          0.027065                   0.019332   \n",
       "3                          0.024369                   0.024369   \n",
       "4                          0.026778                   0.017186   \n",
       "\n",
       "   home_team_defenceAggression  home_team_defenceTeamWidth  \\\n",
       "0                     0.018021                    0.018822   \n",
       "1                     0.018571                    0.020186   \n",
       "2                     0.023199                    0.021266   \n",
       "3                     0.020888                    0.021662   \n",
       "4                     0.018385                    0.019983   \n",
       "\n",
       "   home_team_avg_shots  home_team_avg_corners  ...  \\\n",
       "0             0.003996               0.004053  ...   \n",
       "1             0.004271               0.004363  ...   \n",
       "2             0.005135               0.005184  ...   \n",
       "3             0.005586               0.005604  ...   \n",
       "4             0.004228               0.004319  ...   \n",
       "\n",
       "   away_player_2_overall_rating  away_player_3_overall_rating  \\\n",
       "0                      0.028833                      0.028433   \n",
       "1                      0.029068                      0.029875   \n",
       "2                      0.027839                      0.029385   \n",
       "3                      0.027077                      0.027851   \n",
       "4                      0.029575                      0.030375   \n",
       "\n",
       "   away_player_4_overall_rating  away_player_5_overall_rating  \\\n",
       "0                      0.028032                      0.028833   \n",
       "1                      0.029472                      0.028664   \n",
       "2                      0.028999                      0.027839   \n",
       "3                      0.027851                      0.027464   \n",
       "4                      0.031174                      0.028376   \n",
       "\n",
       "   away_player_6_overall_rating  away_player_7_overall_rating  \\\n",
       "0                      0.028833                      0.029234   \n",
       "1                      0.030279                      0.032298   \n",
       "2                      0.027065                      0.029385   \n",
       "3                      0.028624                      0.028238   \n",
       "4                      0.029975                      0.023980   \n",
       "\n",
       "   away_player_8_overall_rating  away_player_9_overall_rating  \\\n",
       "0                      0.029634                      0.030035   \n",
       "1                      0.030279                      0.031087   \n",
       "2                      0.027839                      0.029772   \n",
       "3                      0.028238                      0.030558   \n",
       "4                      0.029575                      0.031973   \n",
       "\n",
       "   away_player_10_overall_rating  away_player_11_overall_rating  \n",
       "0                       0.028032                       0.025630  \n",
       "1                       0.029875                       0.029472  \n",
       "2                       0.026679                       0.028612  \n",
       "3                       0.026690                       0.028238  \n",
       "4                       0.032373                       0.030375  \n",
       "\n",
       "[5 rows x 60 columns]"
      ]
     },
     "execution_count": 66,
     "metadata": {},
     "output_type": "execute_result"
    }
   ],
   "source": [
    "# all features except outcomes\n",
    "features = inputs.drop('outcome', axis=1)\n",
    "features.iloc[:,:] = Normalizer(norm='l1').fit_transform(features)\n",
    "features.head()"
   ]
  },
  {
   "cell_type": "markdown",
   "metadata": {},
   "source": [
    "## Step 2: Classification & Results Interpretation\n",
    "[go back to the top](#Table-of-contents)\n",
    "\n",
    "### Splitting the data into train and test"
   ]
  },
  {
   "cell_type": "code",
   "execution_count": 123,
   "metadata": {},
   "outputs": [],
   "source": [
    "X_train, X_test, y_train, y_test = train_test_split(features, outcomes, test_size = 0.2, random_state = 40, stratify = outcomes)"
   ]
  },
  {
   "cell_type": "markdown",
   "metadata": {},
   "source": [
    "### Training and Evaluating Models\n",
    "\n",
    "used **K-Fold Cross validation**. The idea is that we split the dataset, after processing it, in k bins of equal ize"
   ]
  },
  {
   "cell_type": "code",
   "execution_count": 124,
   "metadata": {},
   "outputs": [],
   "source": [
    "# Training and Evaluating Models\n",
    "def train_model(clf, data, labels):\n",
    "    kf = KFold(n_splits=5, shuffle=False)\n",
    "    for train, test in kf.split(data):\n",
    "        X_train, X_test = data[data.index.isin(train)], data[data.index.isin(test)]\n",
    "        y_train, y_test = labels[data.index.isin(train)], labels[data.index.isin(test)]\n",
    "        clf.fit(X_train, y_train)\n",
    "\n",
    "def train_model_nn(clf, data, labels):\n",
    "    kf = KFold(n_splits=5, shuffle=True)\n",
    "    for train, test in kf.split(data):\n",
    "        X_train, X_test = data[data.index.isin(train)], data[data.index.isin(test)]\n",
    "        y_train, y_test = labels[data.index.isin(train)], labels[data.index.isin(test)]\n",
    "        clf.fit(X_train, y_train, epochs=150, batch_size=313, verbose=0)\n",
    "\n",
    "def predict_outcome(clf, X_test):\n",
    "    return clf.predict(X_test)\n",
    "\n",
    "def predict_proba(clf, X_test):\n",
    "    return clf.predict_proba(X_test)\n",
    "\n",
    "def predict_metrics(y_test, y_predict):\n",
    "    ls = ['Win', 'Draw', 'Defeat']\n",
    "    \n",
    "    from sklearn.metrics import ConfusionMatrixDisplay\n",
    "    cm = metrics.confusion_matrix(y_test, y_predict, ls)\n",
    "    disp = ConfusionMatrixDisplay(confusion_matrix=cm, display_labels=ls)\n",
    "    disp.plot(include_values=True, xticks_rotation='vertical')\n",
    "    plt.show()\n",
    "    \n",
    "    from sklearn.metrics import classification_report\n",
    "    print(classification_report(y_test, y_predict, target_names=ls))\n",
    "\n",
    "    print(\"\\n\\nAccuracy score for training set: \", metrics.accuracy_score(y_test, y_predict))\n",
    "    print(\"Recall: \", metrics.recall_score(y_test, y_predict, average='macro'))\n",
    "    print(\"Precision: \", metrics.precision_score(y_test, y_predict, average='macro'))\n",
    "    print(\"F1 Score: \", metrics.f1_score(y_test, y_predict, average='macro'))\n",
    "    \n",
    "def roc_curve(preds):\n",
    "    # ROC curve\n",
    "    '''fpr, tpr, threshold = metrics.roc_curve(y_test, preds)\n",
    "    roc_auc = metrics.auc(fpr, tpr)\n",
    "    plt.title('Receiver Operating Characteristic')\n",
    "    plt.plt(fpr, tpr, 'b', label = 'AUC = %0.2f' % roc_auc)\n",
    "    plt.legend(loc='lower right')\n",
    "    plt.plt([0,1],[0,], 'r--')\n",
    "    plt.xlim([0,1])\n",
    "    plt.ylim([0,1])\n",
    "    plt.xlabel('True Positive Rate')\n",
    "    plt.ylabel('False Positive Rate')\n",
    "    import scikitplot as skplt\n",
    "    skplt.metrics.plot_roc_curve(y_test, y_pred)\n",
    "    plt.show()'''   \n",
    "\n",
    "def train_predict(clf, X_train, y_train, X_test, y_test):\n",
    "    train_model(clf, X_train, y_train)\n",
    "    y_predict = predict_outcome(clf, X_test)\n",
    "    predict_metrics(y_test, y_predict)\n",
    "    #roc_curve(predict_proba(clf, X_test)[:,1])\n",
    "\n",
    "def train_predict_nn(clf, X_train, y_train, X_test, y_test, encoder):\n",
    "    train_model_nn(clf, X_train, y_train)\n",
    "    y_predict = predict_outcome(clf, X_test)\n",
    "    y_test_reverse = [np.argmax(y, axis=None, out=None) for y in y_test]\n",
    "    y_predict_reverse = [np.argmax(y, axis=None, out=None) for y in y_predict]\n",
    "    y_test_decoded = encoder.inverse_transform(y_test_reverse)\n",
    "    y_predict_decoded = encoder.inverse_transform(y_predict_reverse)\n",
    "\n",
    "    predict_metrics(y_test_decoded, y_predict_decoded)"
   ]
  },
  {
   "cell_type": "markdown",
   "metadata": {},
   "source": [
    "### The basis\n",
    "\n",
    "* The **accuracy** measure is great for balanced classes, but because this is not the case we can't do much with it.\n",
    "\n",
    "* **Precision-Recall** is a useful measure of success of prediction when the classes are very imbalanced. \n",
    "\n",
    "* **Precision** is a measure of the ability of a classification model to identify only the relevant data points, ie, answers the question: what portion of **predicted Positives** is truly Positive?\n",
    "\n",
    "* **Recall** is a measure of the ability of a model to find all the relevant cases within a dataset, ie, answers the question what portion of **actual Positives** is correctly classified\n",
    "\n",
    "* **F1-Score** is a combination of both recall and precision. Why you need this you ask? Because precision and recall are often in tension, i.e, improving one will lead to a reduction in the other, this way the f1-score is a great measure.\n",
    "\n",
    "* In our project we should, ideally, point to be best possible score in **Recall**. I should explain why. By aspiring to a high recall we are trying to get as many correctly predicted matches as we can, even if this means less in precision.\n",
    "\n",
    "\n",
    "diabetes - high recall\n",
    "video recomendation - high precison\n"
   ]
  },
  {
   "cell_type": "markdown",
   "metadata": {},
   "source": [
    "### KNN"
   ]
  },
  {
   "cell_type": "code",
   "execution_count": 125,
   "metadata": {
    "scrolled": false
   },
   "outputs": [
    {
     "data": {
      "image/png": "[encoded data removed]",
      "text/plain": [
       "<Figure size 432x288 with 2 Axes>"
      ]
     },
     "metadata": {
      "needs_background": "light"
     },
     "output_type": "display_data"
    },
    {
     "name": "stdout",
     "output_type": "stream",
     "text": [
      "              precision    recall  f1-score   support\n",
      "\n",
      "         Win       0.45      0.28      0.34       145\n",
      "        Draw       0.20      0.01      0.02       125\n",
      "      Defeat       0.52      0.90      0.65       240\n",
      "\n",
      "    accuracy                           0.50       510\n",
      "   macro avg       0.39      0.39      0.34       510\n",
      "weighted avg       0.42      0.50      0.41       510\n",
      "\n",
      "\n",
      "\n",
      "Accuracy score for training set:  0.5019607843137255\n",
      "Recall:  0.39323180076628356\n",
      "Precision:  0.3900443281738246\n",
      "F1 Score:  0.337740787138165\n"
     ]
    }
   ],
   "source": [
    "clf = KNeighborsClassifier(n_neighbors=100)\n",
    "train_predict(clf, X_train, y_train, X_test, y_test)"
   ]
  },
  {
   "cell_type": "markdown",
   "metadata": {},
   "source": [
    "### Decision Tree"
   ]
  },
  {
   "cell_type": "code",
   "execution_count": 126,
   "metadata": {},
   "outputs": [
    {
     "data": {
      "image/png": "[encoded data removed]",
      "text/plain": [
       "<Figure size 432x288 with 2 Axes>"
      ]
     },
     "metadata": {
      "needs_background": "light"
     },
     "output_type": "display_data"
    },
    {
     "name": "stdout",
     "output_type": "stream",
     "text": [
      "              precision    recall  f1-score   support\n",
      "\n",
      "         Win       0.42      0.47      0.44       145\n",
      "        Draw       0.33      0.10      0.15       125\n",
      "      Defeat       0.57      0.74      0.64       240\n",
      "\n",
      "    accuracy                           0.51       510\n",
      "   macro avg       0.44      0.44      0.41       510\n",
      "weighted avg       0.47      0.51      0.47       510\n",
      "\n",
      "\n",
      "\n",
      "Accuracy score for training set:  0.5058823529411764\n",
      "Recall:  0.43554406130268203\n",
      "Precision:  0.44146122587572795\n",
      "F1 Score:  0.41242468980498703\n"
     ]
    }
   ],
   "source": [
    "clf = DecisionTreeClassifier(random_state=0, criterion='entropy', splitter='random', max_depth=5)\n",
    "train_predict(clf, X_train, y_train, X_test, y_test)"
   ]
  },
  {
   "cell_type": "markdown",
   "metadata": {},
   "source": [
    "### SVC"
   ]
  },
  {
   "cell_type": "code",
   "execution_count": 127,
   "metadata": {
    "scrolled": false
   },
   "outputs": [
    {
     "data": {
      "image/png": "[encoded data removed]",
      "text/plain": [
       "<Figure size 432x288 with 2 Axes>"
      ]
     },
     "metadata": {
      "needs_background": "light"
     },
     "output_type": "display_data"
    },
    {
     "name": "stdout",
     "output_type": "stream",
     "text": [
      "              precision    recall  f1-score   support\n",
      "\n",
      "         Win       0.43      0.38      0.40       145\n",
      "        Draw       0.20      0.01      0.02       125\n",
      "      Defeat       0.53      0.82      0.64       240\n",
      "\n",
      "    accuracy                           0.50       510\n",
      "   macro avg       0.38      0.40      0.35       510\n",
      "weighted avg       0.42      0.50      0.42       510\n",
      "\n",
      "\n",
      "\n",
      "Accuracy score for training set:  0.4980392156862745\n",
      "Recall:  0.40410344827586203\n",
      "Precision:  0.38431744460937933\n",
      "F1 Score:  0.35323387075211893\n"
     ]
    }
   ],
   "source": [
    "clf = SVC(coef0=5, kernel='poly')\n",
    "train_predict(clf, X_train, y_train, X_test, y_test)"
   ]
  },
  {
   "cell_type": "markdown",
   "metadata": {},
   "source": [
    "### Naive Bayes"
   ]
  },
  {
   "cell_type": "code",
   "execution_count": 128,
   "metadata": {
    "scrolled": false
   },
   "outputs": [
    {
     "data": {
      "image/png": "[encoded data removed]",
      "text/plain": [
       "<Figure size 432x288 with 2 Axes>"
      ]
     },
     "metadata": {
      "needs_background": "light"
     },
     "output_type": "display_data"
    },
    {
     "name": "stdout",
     "output_type": "stream",
     "text": [
      "              precision    recall  f1-score   support\n",
      "\n",
      "         Win       0.39      0.51      0.44       145\n",
      "        Draw       0.38      0.02      0.05       125\n",
      "      Defeat       0.56      0.73      0.63       240\n",
      "\n",
      "    accuracy                           0.49       510\n",
      "   macro avg       0.44      0.42      0.37       510\n",
      "weighted avg       0.47      0.49      0.43       510\n",
      "\n",
      "\n",
      "\n",
      "Accuracy score for training set:  0.49411764705882355\n",
      "Recall:  0.4211704980842912\n",
      "Precision:  0.4418799409480985\n",
      "F1 Score:  0.3737126489383467\n"
     ]
    }
   ],
   "source": [
    "clf = GaussianNB(var_smoothing=1.1)\n",
    "train_predict(clf, X_train, y_train, X_test, y_test)"
   ]
  },
  {
   "cell_type": "markdown",
   "metadata": {},
   "source": [
    "### Gradient Boosting"
   ]
  },
  {
   "cell_type": "code",
   "execution_count": 129,
   "metadata": {},
   "outputs": [
    {
     "data": {
      "image/png": "[encoded data removed]",
      "text/plain": [
       "<Figure size 432x288 with 2 Axes>"
      ]
     },
     "metadata": {
      "needs_background": "light"
     },
     "output_type": "display_data"
    },
    {
     "name": "stdout",
     "output_type": "stream",
     "text": [
      "              precision    recall  f1-score   support\n",
      "\n",
      "         Win       0.45      0.43      0.44       145\n",
      "        Draw       0.24      0.10      0.15       125\n",
      "      Defeat       0.55      0.72      0.62       240\n",
      "\n",
      "    accuracy                           0.49       510\n",
      "   macro avg       0.41      0.42      0.40       510\n",
      "weighted avg       0.45      0.49      0.46       510\n",
      "\n",
      "\n",
      "\n",
      "Accuracy score for training set:  0.49019607843137253\n",
      "Recall:  0.4211609195402299\n",
      "Precision:  0.41429134995543704\n",
      "F1 Score:  0.404562983987325\n"
     ]
    }
   ],
   "source": [
    "clf = XGBClassifier(max_depth=20)\n",
    "train_predict(clf, X_train, y_train, X_test, y_test)"
   ]
  },
  {
   "cell_type": "markdown",
   "metadata": {},
   "source": [
    "### Deep Neural Network"
   ]
  },
  {
   "cell_type": "code",
   "execution_count": 133,
   "metadata": {
    "scrolled": false
   },
   "outputs": [
    {
     "name": "stdout",
     "output_type": "stream",
     "text": [
      "Model: \"model_7\"\n",
      "_________________________________________________________________\n",
      "Layer (type)                 Output Shape              Param #   \n",
      "=================================================================\n",
      "input_8 (InputLayer)         (None, 60)                0         \n",
      "_________________________________________________________________\n",
      "dense_29 (Dense)             (None, 500)               30500     \n",
      "_________________________________________________________________\n",
      "dense_30 (Dense)             (None, 100)               50100     \n",
      "_________________________________________________________________\n",
      "dense_33 (Dense)             (None, 10)                1010      \n",
      "_________________________________________________________________\n",
      "dense_34 (Dense)             (None, 3)                 33        \n",
      "=================================================================\n",
      "Total params: 81,643\n",
      "Trainable params: 81,643\n",
      "Non-trainable params: 0\n",
      "_________________________________________________________________\n",
      "None\n"
     ]
    },
    {
     "data": {
      "image/png": "[encoded data removed]",
      "text/plain": [
       "<Figure size 432x288 with 2 Axes>"
      ]
     },
     "metadata": {
      "needs_background": "light"
     },
     "output_type": "display_data"
    },
    {
     "name": "stdout",
     "output_type": "stream",
     "text": [
      "              precision    recall  f1-score   support\n",
      "\n",
      "         Win       0.39      0.57      0.46       145\n",
      "        Draw       0.00      0.00      0.00       125\n",
      "      Defeat       0.57      0.71      0.63       240\n",
      "\n",
      "    accuracy                           0.50       510\n",
      "   macro avg       0.32      0.43      0.37       510\n",
      "weighted avg       0.38      0.50      0.43       510\n",
      "\n",
      "\n",
      "\n",
      "Accuracy score for training set:  0.49607843137254903\n",
      "Recall:  0.42600574712643685\n",
      "Precision:  0.32015197826456104\n",
      "F1 Score:  0.3651951816968595\n"
     ]
    }
   ],
   "source": [
    "le = LabelEncoder()\n",
    "y_train2 = le.fit_transform(y_train)\n",
    "y_test2 = le.fit_transform(y_test)\n",
    "y_train2 = np_utils.to_categorical(y_train2)\n",
    "y_test2 = np_utils.to_categorical(y_test2)\n",
    "\n",
    "visible = Input(shape=(X_train.shape[1],))\n",
    "hidden1 = Dense(500, activation='relu')(visible)\n",
    "hidden2 = Dense(100, activation='relu')(hidden1)\n",
    "hidden3 = Dense(50, activation='relu')(hidden2)\n",
    "hidden3 = Dense(25, activation='relu')(hidden2)\n",
    "hidden3 = Dense(10, activation='relu')(hidden2)\n",
    "output = Dense(3, activation='softmax')(hidden3)\n",
    "\n",
    "clf = Model(inputs=visible, outputs=output)\n",
    "print(clf.summary())\n",
    "\n",
    "clf.compile(optimizer='adagrad', \n",
    "              loss='categorical_crossentropy', \n",
    "              metrics=['accuracy'])\n",
    "\n",
    "train_predict_nn(clf, X_train, y_train2, X_test, y_test2, le)"
   ]
  },
  {
   "cell_type": "markdown",
   "metadata": {},
   "source": [
    "## Conclusion\n",
    "[go back to the top](#Table-of-contents)\n",
    "\n",
    "### What did we learn\n",
    "Regarding data analysis we learn so many things we did not knew before. Regarding data analysys and processment of data, we learned the importance of usability of the dataset and in case it is not perfect we bust fixed it. After looking at our dataset we noticed some inconsistences and fixes by either removing some rows and **mean imputation** to allow the models to have multiple features. \n",
    "Before fitting the models, we noticed also, the importance of splitting in a good manner the data or train and test and used **K-Fold Cross validation**. \n",
    "Finally, the analysis of the models is very important... We cannot look only for the accuracy measure because many times it's misleading and to counter that, we must focus on other metrics to evaluate our models.\n",
    "\n",
    "\n",
    "### Choosing best model\n",
    "\n",
    "To evaluate the different models we need to choose a metric for comparison. The accuracy is only useful when we are dealing with a balanced dataset, which is not the case. Because of that, we need to consider only the other 3 possible metric, **recall**, **precison** or **f-measure**.\n",
    "\n",
    "Since a predicton is associated with a cost in our case (given that to predict a match we have to spend money to bet on it), the most valuable measure is the precision. Then, our objective is to try to get the maximum percentage of **true positives** that are correctly classified by our models. \n",
    "\n",
    "In other cases, such as for medical applications, the objective of a model is to maximize the recall. The f1-score is also an important measure to evaluate both the recall and the precision, when the 2 have the same importance.\n",
    "\n",
    "Considering this, we think that the Decision Tree model was the most affective. Was the one that got the most precision alongside the Naive Bayes model. The difference is that the Decision Tree model had not only the best precision but also higher f1-score, recall and accuracy. The test were done thoroughly and exastive, with shuffling the data and measuring more than once obviously.\n",
    "\n",
    "### All in all\n",
    "All in all, it was a great experience and very valuable. We noticed the interest of the professors to shift the lecture to do a more pratical work, that way we can learn much more by ourself, learn with our mistakes, and become very interest in this topic and to pursue it in future years"
   ]
  },
  {
   "cell_type": "markdown",
   "metadata": {},
   "source": [
    "## References"
   ]
  },
  {
   "cell_type": "markdown",
   "metadata": {},
   "source": [
    "[go back to the top](#Table-of-contents)\n",
    "\n",
    "* [Europen Soccer Database](https://www.kaggle.com/hugomathien/soccer)\n",
    "\n",
    "* [Football Data Analysis](https://www.kaggle.com/pavanraj159/european-football-data-analysis#The-ultimate-Soccer-database-for-data-analysis-and-machine-learning)\n",
    "\n",
    "* [Data Analysis and Machine Learning Projects](https://github.com/rhiever/Data-Analysis-and-Machine-Learning-Projects/blob/master/example-data-science-notebook/Example%20Machine%20Learning%20Notebook.ipynb)\n",
    "\n",
    "* [Match Outcome Prediction in Football](https://www.kaggle.com/airback/match-outcome-prediction-in-football)\n",
    "\n",
    "* [European Soccer Database Supplementary (XML Events to CSV)](https://www.kaggle.com/jiezi2004/soccer)\n",
    "\n",
    "* [A deep learning framework for football match prediction](https://link.springer.com/article/10.1007/s42452-019-1821-5)\n",
    "\n",
    "* [Predicting Football Match Outcome using Machine Learning: Football Match prediction using machine learning algorithms in jupyter notebook](https://github.com/prathameshtari/Predicting-Football-Match-Outcome-using-Machine-Learning)\n",
    "\n",
    "* [(PDF) Football Result Prediction by Deep Learning Algorithms](https://www.researchgate.net/publication/334415630_Football_Result_Prediction_by_Deep_Learning_Algorithms)\n",
    "\n",
    "* [Predicting Football Results Using Machine Learning Techniques](https://www.imperial.ac.uk/media/imperial-college/faculty-of-engineering/computing/public/1718-ug-projects/Corentin-Herbinet-Using-Machine-Learning-techniques-to-predict-the-outcome-of-profressional-football-matches.pdf)\n",
    "\n",
    "* [A machine learning framework for sport result prediction](https://www.sciencedirect.com/science/article/pii/S2210832717301485)"
   ]
  },
  {
   "cell_type": "code",
   "execution_count": null,
   "metadata": {},
   "outputs": [],
   "source": []
  }
 ],
 "metadata": {
  "kernelspec": {
   "display_name": "Python 3",
   "language": "python",
   "name": "python3"
  },
  "language_info": {
   "codemirror_mode": {
    "name": "ipython",
    "version": 3
   },
   "file_extension": ".py",
   "mimetype": "text/x-python",
   "name": "python",
   "nbconvert_exporter": "python",
   "pygments_lexer": "ipython3",
   "version": "3.8.2"
  }
 },
 "nbformat": 4,
 "nbformat_minor": 4
}
